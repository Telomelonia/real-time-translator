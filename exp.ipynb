{
 "cells": [
  {
   "cell_type": "code",
   "execution_count": 2,
   "metadata": {},
   "outputs": [
    {
     "name": "stdout",
     "output_type": "stream",
     "text": [
      "Collecting git+https://github.com/openai/whisper.git\n",
      "  Cloning https://github.com/openai/whisper.git to c:\\users\\shukl\\appdata\\local\\temp\\pip-req-build-crxb74lw\n",
      "  Resolved https://github.com/openai/whisper.git to commit 25639fc17ddc013d56c594bfbf7644f2185fad84\n",
      "  Installing build dependencies: started\n",
      "  Installing build dependencies: finished with status 'done'\n",
      "  Getting requirements to build wheel: started\n",
      "  Getting requirements to build wheel: finished with status 'done'\n",
      "  Preparing metadata (pyproject.toml): started\n",
      "  Preparing metadata (pyproject.toml): finished with status 'done'\n",
      "Requirement already satisfied: numba in c:\\users\\shukl\\appdata\\local\\programs\\python\\python310\\lib\\site-packages (from openai-whisper==20240930) (0.60.0)\n",
      "Requirement already satisfied: numpy in c:\\users\\shukl\\appdata\\local\\programs\\python\\python310\\lib\\site-packages (from openai-whisper==20240930) (1.23.0)\n",
      "Requirement already satisfied: torch in c:\\users\\shukl\\appdata\\local\\programs\\python\\python310\\lib\\site-packages (from openai-whisper==20240930) (2.3.0)\n",
      "Requirement already satisfied: tqdm in c:\\users\\shukl\\appdata\\local\\programs\\python\\python310\\lib\\site-packages (from openai-whisper==20240930) (4.65.0)\n",
      "Requirement already satisfied: more-itertools in c:\\users\\shukl\\appdata\\local\\programs\\python\\python310\\lib\\site-packages (from openai-whisper==20240930) (10.5.0)\n",
      "Requirement already satisfied: tiktoken in c:\\users\\shukl\\appdata\\local\\programs\\python\\python310\\lib\\site-packages (from openai-whisper==20240930) (0.7.0)\n",
      "Requirement already satisfied: llvmlite<0.44,>=0.43.0dev0 in c:\\users\\shukl\\appdata\\local\\programs\\python\\python310\\lib\\site-packages (from numba->openai-whisper==20240930) (0.43.0)\n",
      "Requirement already satisfied: regex>=2022.1.18 in c:\\users\\shukl\\appdata\\local\\programs\\python\\python310\\lib\\site-packages (from tiktoken->openai-whisper==20240930) (2024.4.28)\n",
      "Requirement already satisfied: requests>=2.26.0 in c:\\users\\shukl\\appdata\\local\\programs\\python\\python310\\lib\\site-packages (from tiktoken->openai-whisper==20240930) (2.28.1)\n",
      "Requirement already satisfied: filelock in c:\\users\\shukl\\appdata\\local\\programs\\python\\python310\\lib\\site-packages (from torch->openai-whisper==20240930) (3.16.1)\n",
      "Requirement already satisfied: typing-extensions>=4.8.0 in c:\\users\\shukl\\appdata\\local\\programs\\python\\python310\\lib\\site-packages (from torch->openai-whisper==20240930) (4.10.0)\n",
      "Requirement already satisfied: sympy in c:\\users\\shukl\\appdata\\local\\programs\\python\\python310\\lib\\site-packages (from torch->openai-whisper==20240930) (1.12)\n",
      "Requirement already satisfied: networkx in c:\\users\\shukl\\appdata\\local\\programs\\python\\python310\\lib\\site-packages (from torch->openai-whisper==20240930) (3.3)\n",
      "Requirement already satisfied: jinja2 in c:\\users\\shukl\\appdata\\local\\programs\\python\\python310\\lib\\site-packages (from torch->openai-whisper==20240930) (3.1.2)\n",
      "Requirement already satisfied: fsspec in c:\\users\\shukl\\appdata\\local\\programs\\python\\python310\\lib\\site-packages (from torch->openai-whisper==20240930) (2024.3.1)\n",
      "Requirement already satisfied: mkl<=2021.4.0,>=2021.1.1 in c:\\users\\shukl\\appdata\\local\\programs\\python\\python310\\lib\\site-packages (from torch->openai-whisper==20240930) (2021.4.0)\n",
      "Requirement already satisfied: colorama in c:\\users\\shukl\\appdata\\roaming\\python\\python310\\site-packages (from tqdm->openai-whisper==20240930) (0.4.6)\n",
      "Requirement already satisfied: intel-openmp==2021.* in c:\\users\\shukl\\appdata\\local\\programs\\python\\python310\\lib\\site-packages (from mkl<=2021.4.0,>=2021.1.1->torch->openai-whisper==20240930) (2021.4.0)\n",
      "Requirement already satisfied: tbb==2021.* in c:\\users\\shukl\\appdata\\local\\programs\\python\\python310\\lib\\site-packages (from mkl<=2021.4.0,>=2021.1.1->torch->openai-whisper==20240930) (2021.12.0)\n",
      "Collecting charset-normalizer<3,>=2 (from requests>=2.26.0->tiktoken->openai-whisper==20240930)\n",
      "  Downloading charset_normalizer-2.1.1-py3-none-any.whl.metadata (11 kB)\n",
      "Requirement already satisfied: idna<4,>=2.5 in c:\\users\\shukl\\appdata\\local\\programs\\python\\python310\\lib\\site-packages (from requests>=2.26.0->tiktoken->openai-whisper==20240930) (3.4)\n",
      "Requirement already satisfied: urllib3<1.27,>=1.21.1 in c:\\users\\shukl\\appdata\\local\\programs\\python\\python310\\lib\\site-packages (from requests>=2.26.0->tiktoken->openai-whisper==20240930) (1.26.13)\n",
      "Requirement already satisfied: certifi>=2017.4.17 in c:\\users\\shukl\\appdata\\local\\programs\\python\\python310\\lib\\site-packages (from requests>=2.26.0->tiktoken->openai-whisper==20240930) (2022.12.7)\n",
      "Requirement already satisfied: MarkupSafe>=2.0 in c:\\users\\shukl\\appdata\\local\\programs\\python\\python310\\lib\\site-packages (from jinja2->torch->openai-whisper==20240930) (2.1.1)\n",
      "Requirement already satisfied: mpmath>=0.19 in c:\\users\\shukl\\appdata\\local\\programs\\python\\python310\\lib\\site-packages (from sympy->torch->openai-whisper==20240930) (1.3.0)\n",
      "Downloading charset_normalizer-2.1.1-py3-none-any.whl (39 kB)\n",
      "Installing collected packages: charset-normalizer\n",
      "  Attempting uninstall: charset-normalizer\n",
      "    Found existing installation: charset-normalizer 3.3.2\n",
      "    Uninstalling charset-normalizer-3.3.2:\n",
      "      Successfully uninstalled charset-normalizer-3.3.2\n",
      "Successfully installed charset-normalizer-2.1.1\n"
     ]
    },
    {
     "name": "stderr",
     "output_type": "stream",
     "text": [
      "  Running command git clone --filter=blob:none --quiet https://github.com/openai/whisper.git 'C:\\Users\\shukl\\AppData\\Local\\Temp\\pip-req-build-crxb74lw'\n",
      "ERROR: pip's dependency resolver does not currently take into account all the packages that are installed. This behaviour is the source of the following dependency conflicts.\n",
      "taipy-gui 4.0.0 requires charset-normalizer<=3.3.2,>=3.3.2, but you have charset-normalizer 2.1.1 which is incompatible.\n",
      "\n",
      "[notice] A new release of pip is available: 24.1.2 -> 24.2\n",
      "[notice] To update, run: python.exe -m pip install --upgrade pip\n"
     ]
    }
   ],
   "source": [
    "!pip install git+https://github.com/openai/whisper.git"
   ]
  },
  {
   "cell_type": "code",
   "execution_count": 3,
   "metadata": {},
   "outputs": [
    {
     "name": "stderr",
     "output_type": "stream",
     "text": [
      "'sudo' is not recognized as an internal or external command,\n",
      "operable program or batch file.\n"
     ]
    }
   ],
   "source": [
    "!sudo apt update && sudo apt install ffmpeg"
   ]
  },
  {
   "cell_type": "code",
   "execution_count": 4,
   "metadata": {},
   "outputs": [
    {
     "name": "stdout",
     "output_type": "stream",
     "text": [
      "Detecting language using up to the first 30 seconds. Use `--language` to specify the language\n",
      "Detected language: Japanese\n",
      "[00:00.000 --> 00:10.000] おはようございます。一日の初めに少しだけおしゃべりしましょう。\n",
      "[00:10.000 --> 00:16.000] 昨日はよく眠れましたか?\n",
      "[00:16.000 --> 00:24.000] 朝ごはんは食べましたか?\n",
      "[00:24.000 --> 00:34.000] そうですか。私はこれからホットケーキを食べるところです。\n",
      "[00:34.000 --> 00:40.000] 今の天気はどうですか?\n",
      "[00:40.000 --> 00:46.000] そうなんですね。ここはご覧の通りいい天気ですよ。\n",
      "[00:46.000 --> 00:56.000] 最近、日本語の勉強はどうですか?\n",
      "[00:56.000 --> 01:06.000] どんなアプリを使って日本語を勉強してますか?\n",
      "[01:06.000 --> 01:16.000] 最近覚えた単語は何かありますか?\n",
      "[01:16.000 --> 01:22.000] そんな言葉も知ってるなんてすごいですね。\n",
      "[01:22.000 --> 01:32.000] そういえば、今日は何月何日の何曜日でしたっけ?\n",
      "[01:32.000 --> 01:41.000] 今日は何をする予定ですか?\n",
      "[01:41.000 --> 01:51.000] そうですか。私は朝ごはんを食べたら皿洗いをして、歯を磨いて郵便局に行く予定です。\n",
      "[01:51.000 --> 01:57.000] ところで、今何時ですか?\n",
      "[01:57.000 --> 02:03.000] もうそんな時間ですか。楽しい時間はあっという間に過ぎますね。\n",
      "[02:03.000 --> 02:09.000] 今日も素敵な一日になりますように。それでは。\n",
      "[02:16.000 --> 02:23.000] おはようございます。一日の初めに少しだけおしゃべりしましょう。\n",
      "[02:23.000 --> 02:27.000] 昨日はよく眠れましたか?\n",
      "[02:27.000 --> 02:30.000] はい、よく眠れました。\n",
      "[02:30.000 --> 02:33.000] 朝ごはんは食べましたか?\n",
      "[02:33.000 --> 02:38.000] はい、パンとリンゴを食べました。\n",
      "[02:38.000 --> 02:44.000] そうですか。私はこれからホットケーキを食べるところです。\n",
      "[02:44.000 --> 02:47.000] 今の天気はどうですか?\n",
      "[02:47.000 --> 02:50.000] 少し雨が降ってます。\n",
      "[02:50.000 --> 02:56.000] そうなんですね。ここはご覧の通りいい天気ですよ。\n",
      "[02:56.000 --> 03:00.000] 最近日本語の勉強はどうですか?\n",
      "[03:00.000 --> 03:07.000] 毎日1時間勉強してますが、単語を覚えるのが難しいです。\n",
      "[03:07.000 --> 03:12.000] どんなアプリを使って日本語を勉強してますか?\n",
      "[03:12.000 --> 03:18.000] YouTubeとかNetflixとかを使って勉強してます。\n",
      "[03:18.000 --> 03:22.000] 最近覚えた単語は何かありますか?\n",
      "[03:22.000 --> 03:27.000] 昨日、食べ放題という言葉を覚えました。\n",
      "[03:27.000 --> 03:31.000] そんな言葉も知ってるなんてすごいですね。\n",
      "[03:31.000 --> 03:37.000] そういえば、今日は何月何日の何曜日でしたっけ?\n",
      "[03:37.000 --> 03:41.000] 2月25日の土曜日です。\n",
      "[03:41.000 --> 03:45.000] 今日は何をする予定ですか?\n",
      "[03:45.000 --> 03:51.000] 学校の宿題をして、母とスーパーに行く予定です。\n",
      "[03:51.000 --> 04:01.000] そうですか、私は朝ごはんを食べたら皿洗いをして、歯を磨いて郵便局に行く予定です。\n",
      "[04:01.000 --> 04:04.000] ところで、今何時ですか?\n",
      "[04:04.000 --> 04:07.000] 8時20分です。\n",
      "[04:07.000 --> 04:09.000] もうそんな時間ですか?\n",
      "[04:09.000 --> 04:13.000] 楽しい時間はあっという間に過ぎますね。\n",
      "[04:13.000 --> 04:17.000] 今日も素敵な一日になりますように。\n",
      "[04:17.000 --> 04:19.000] それでは。\n"
     ]
    },
    {
     "name": "stderr",
     "output_type": "stream",
     "text": [
      "C:\\Users\\shukl\\AppData\\Local\\Programs\\Python\\Python310\\lib\\site-packages\\whisper\\transcribe.py:126: UserWarning: FP16 is not supported on CPU; using FP32 instead\n",
      "  warnings.warn(\"FP16 is not supported on CPU; using FP32 instead\")\n"
     ]
    }
   ],
   "source": [
    "!whisper sample.mp3 --model medium"
   ]
  },
  {
   "cell_type": "code",
   "execution_count": 1,
   "metadata": {},
   "outputs": [],
   "source": [
    "import whisper"
   ]
  },
  {
   "cell_type": "code",
   "execution_count": 2,
   "metadata": {},
   "outputs": [
    {
     "name": "stdout",
     "output_type": "stream",
     "text": [
      "[00:00.000 --> 00:13.680]  Good morning. Let's have a little chat at the beginning of the day.\n",
      "[00:13.680 --> 00:20.160]  Did you sleep well last night?\n",
      "[00:20.160 --> 00:27.840]  Did you eat breakfast?\n",
      "[00:27.840 --> 00:34.000]  Is that so? I'm going to eat a pancake from now on.\n",
      "[00:34.000 --> 00:40.080]  How's the weather now?\n",
      "[00:40.080 --> 00:46.560]  I see. As you can see, the weather is good here.\n",
      "[00:46.560 --> 00:57.760]  How have you been studying Japanese lately?\n",
      "[00:57.760 --> 01:08.400]  What kind of apps do you use to study Japanese?\n",
      "[01:08.480 --> 01:17.360]  Is there any word you've learned recently?\n",
      "[01:17.360 --> 01:21.840]  It's amazing that you know such a word.\n",
      "[01:21.840 --> 01:31.920]  By the way, what day was it today?\n",
      "[01:32.000 --> 01:41.120]  What are you going to do today?\n",
      "[01:41.120 --> 01:51.200]  Is that so? I'm going to brush my teeth after I eat breakfast and go to the post office.\n",
      "[01:51.200 --> 01:57.360]  By the way, what time is it now?\n",
      "[01:57.440 --> 01:59.760]  Is it that time already?\n",
      "[01:59.760 --> 02:03.760]  A fun time passes in an instant.\n",
      "[02:03.760 --> 02:07.440]  I hope today will be a wonderful day.\n",
      "[02:07.440 --> 02:16.400]  See you later.\n",
      "[02:16.400 --> 02:23.600]  Good morning. Let's have a little chat at the beginning of the day.\n",
      "[02:23.680 --> 02:27.040]  Did you sleep well last night?\n",
      "[02:27.040 --> 02:30.160]  Yes, I slept well.\n",
      "[02:30.160 --> 02:33.520]  Did you eat breakfast?\n",
      "[02:33.520 --> 02:37.840]  Yes, I ate bread and apples.\n",
      "[02:37.840 --> 02:44.160]  Is that so? I'm going to eat a pancake from now on.\n",
      "[02:44.160 --> 02:47.280]  How's the weather now?\n",
      "[02:47.280 --> 02:50.240]  It's raining a little.\n",
      "[02:50.240 --> 02:52.240]  That's right.\n",
      "[02:52.240 --> 02:56.640]  As you can see here, the weather is good.\n",
      "[02:56.640 --> 03:00.720]  How have you been studying Japanese lately?\n",
      "[03:00.720 --> 03:07.760]  I study for an hour every day, but it's difficult to remember words.\n",
      "[03:07.760 --> 03:12.400]  What kind of apps do you use to study Japanese?\n",
      "[03:12.400 --> 03:18.480]  I use YouTube or Netflix to study.\n",
      "[03:18.480 --> 03:22.800]  What words have you learned recently?\n",
      "[03:22.800 --> 03:27.360]  I learned the word eat-all yesterday.\n",
      "[03:27.360 --> 03:31.760]  It's amazing that you know such a word.\n",
      "[03:31.760 --> 03:37.840]  By the way, what day was it today?\n",
      "[03:37.840 --> 03:41.920]  It's Saturday, February 25th.\n",
      "[03:41.920 --> 03:45.280]  What are you going to do today?\n",
      "[03:45.360 --> 03:51.040]  I'm going to do homework at school and go to the supermarket with my mother.\n",
      "[03:51.040 --> 04:01.200]  Is that so? I'm going to wash the dishes, brush my teeth, and go to the post office after I eat breakfast.\n",
      "[04:01.200 --> 04:04.720]  By the way, what time is it now?\n",
      "[04:04.720 --> 04:07.280]  It's 820 minutes.\n",
      "[04:07.280 --> 04:09.600]  Is it that time already?\n",
      "[04:09.600 --> 04:13.680]  A fun time passes in a flash.\n",
      "[04:13.760 --> 04:17.360]  I hope you have a wonderful day today.\n",
      "[04:17.360 --> 04:19.360]  See you later.\n"
     ]
    },
    {
     "name": "stderr",
     "output_type": "stream",
     "text": [
      "C:\\Users\\shukl\\AppData\\Local\\Programs\\Python\\Python310\\lib\\site-packages\\whisper\\transcribe.py:126: UserWarning: FP16 is not supported on CPU; using FP32 instead\n",
      "  warnings.warn(\"FP16 is not supported on CPU; using FP32 instead\")\n"
     ]
    }
   ],
   "source": [
    "!whisper \"sample.mp3\" --model medium --language en"
   ]
  },
  {
   "cell_type": "code",
   "execution_count": 1,
   "metadata": {},
   "outputs": [
    {
     "name": "stdout",
     "output_type": "stream",
     "text": [
      "Collecting sounddevice\n",
      "  Downloading sounddevice-0.5.1-py3-none-win_amd64.whl.metadata (1.4 kB)\n",
      "Requirement already satisfied: numpy in c:\\users\\shukl\\appdata\\local\\programs\\python\\python310\\lib\\site-packages (1.23.0)\n",
      "Collecting pydub\n",
      "  Downloading pydub-0.25.1-py2.py3-none-any.whl.metadata (1.4 kB)\n",
      "Requirement already satisfied: CFFI>=1.0 in c:\\users\\shukl\\appdata\\local\\programs\\python\\python310\\lib\\site-packages (from sounddevice) (1.16.0)\n",
      "Requirement already satisfied: pycparser in c:\\users\\shukl\\appdata\\local\\programs\\python\\python310\\lib\\site-packages (from CFFI>=1.0->sounddevice) (2.21)\n",
      "Downloading sounddevice-0.5.1-py3-none-win_amd64.whl (363 kB)\n",
      "   ---------------------------------------- 363.6/363.6 kB 3.2 MB/s eta 0:00:00\n",
      "Downloading pydub-0.25.1-py2.py3-none-any.whl (32 kB)\n",
      "Installing collected packages: pydub, sounddevice\n",
      "Successfully installed pydub-0.25.1 sounddevice-0.5.1\n",
      "Note: you may need to restart the kernel to use updated packages.\n"
     ]
    },
    {
     "name": "stderr",
     "output_type": "stream",
     "text": [
      "\n",
      "[notice] A new release of pip is available: 24.1.2 -> 24.2\n",
      "[notice] To update, run: python.exe -m pip install --upgrade pip\n"
     ]
    }
   ],
   "source": [
    "pip install sounddevice numpy pydub"
   ]
  },
  {
   "cell_type": "code",
   "execution_count": null,
   "metadata": {},
   "outputs": [],
   "source": [
    "recorder = AudioRecorder()\n",
    "recorder.record(5)  # Record 5 seconds\n",
    "recorder.save_mp3()  # Saves with timestamp-based filename"
   ]
  }
 ],
 "metadata": {
  "kernelspec": {
   "display_name": "Python 3",
   "language": "python",
   "name": "python3"
  },
  "language_info": {
   "codemirror_mode": {
    "name": "ipython",
    "version": 3
   },
   "file_extension": ".py",
   "mimetype": "text/x-python",
   "name": "python",
   "nbconvert_exporter": "python",
   "pygments_lexer": "ipython3",
   "version": "3.10.2"
  }
 },
 "nbformat": 4,
 "nbformat_minor": 2
}
